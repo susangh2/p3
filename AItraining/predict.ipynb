{
 "cells": [
  {
   "cell_type": "code",
   "execution_count": 6,
   "metadata": {},
   "outputs": [
    {
     "name": "stdout",
     "output_type": "stream",
     "text": [
      "[2023-09-18 11:17:56 +0800] [81965] [INFO] Sanic v23.6.0\n",
      "[2023-09-18 11:17:56 +0800] [81965] [INFO] Goin' Fast @ http://0.0.0.0:8000\n",
      "[2023-09-18 11:17:56 +0800] [81965] [INFO] mode: production, single worker\n",
      "[2023-09-18 11:17:56 +0800] [81965] [INFO] server: sanic, HTTP/1.1\n",
      "[2023-09-18 11:17:56 +0800] [81965] [INFO] python: 3.9.9\n",
      "[2023-09-18 11:17:56 +0800] [81965] [INFO] platform: macOS-13.3-arm64-arm-64bit\n",
      "[2023-09-18 11:17:56 +0800] [81965] [INFO] packages: sanic-routing==23.6.0\n"
     ]
    },
    {
     "name": "stderr",
     "output_type": "stream",
     "text": [
      "[2023-09-18 11:17:56 +0800] [81965] [ERROR] Experienced exception while trying to serve\n",
      "Traceback (most recent call last):\n",
      "  File \"/Users/henrytse/Desktop/badproject/AItraining/.pyenv/lib/python3.9/site-packages/sanic/mixins/startup.py\", line 958, in serve_single\n",
      "    worker_serve(monitor_publisher=None, **kwargs)\n",
      "  File \"/Users/henrytse/Desktop/badproject/AItraining/.pyenv/lib/python3.9/site-packages/sanic/worker/serve.py\", line 143, in worker_serve\n",
      "    raise e\n",
      "  File \"/Users/henrytse/Desktop/badproject/AItraining/.pyenv/lib/python3.9/site-packages/sanic/worker/serve.py\", line 117, in worker_serve\n",
      "    return _serve_http_1(\n",
      "  File \"/Users/henrytse/Desktop/badproject/AItraining/.pyenv/lib/python3.9/site-packages/sanic/server/runners.py\", line 222, in _serve_http_1\n",
      "    loop.run_until_complete(app._startup())\n",
      "  File \"uvloop/loop.pyx\", line 1511, in uvloop.loop.Loop.run_until_complete\n",
      "  File \"uvloop/loop.pyx\", line 1504, in uvloop.loop.Loop.run_until_complete\n",
      "  File \"uvloop/loop.pyx\", line 1377, in uvloop.loop.Loop.run_forever\n",
      "  File \"uvloop/loop.pyx\", line 522, in uvloop.loop.Loop._run\n",
      "RuntimeError: Cannot run the event loop while another loop is running\n"
     ]
    },
    {
     "name": "stdout",
     "output_type": "stream",
     "text": [
      "[2023-09-18 11:17:56 +0800] [81965] [INFO] Server Stopped\n"
     ]
    },
    {
     "ename": "RuntimeError",
     "evalue": "Cannot run the event loop while another loop is running",
     "output_type": "error",
     "traceback": [
      "\u001b[0;31m---------------------------------------------------------------------------\u001b[0m",
      "\u001b[0;31mRuntimeError\u001b[0m                              Traceback (most recent call last)",
      "Cell \u001b[0;32mIn[6], line 11\u001b[0m\n\u001b[1;32m      8\u001b[0m     \u001b[39mreturn\u001b[39;00m json({\u001b[39m\"\u001b[39m\u001b[39mhello\u001b[39m\u001b[39m\"\u001b[39m: \u001b[39m\"\u001b[39m\u001b[39mworld\u001b[39m\u001b[39m\"\u001b[39m})\n\u001b[1;32m     10\u001b[0m \u001b[39mif\u001b[39;00m \u001b[39m__name__\u001b[39m \u001b[39m==\u001b[39m \u001b[39m\"\u001b[39m\u001b[39m__main__\u001b[39m\u001b[39m\"\u001b[39m:\n\u001b[0;32m---> 11\u001b[0m     app\u001b[39m.\u001b[39;49mrun(host\u001b[39m=\u001b[39;49m\u001b[39m\"\u001b[39;49m\u001b[39m0.0.0.0\u001b[39;49m\u001b[39m\"\u001b[39;49m, port\u001b[39m=\u001b[39;49m\u001b[39m8000\u001b[39;49m, single_process\u001b[39m=\u001b[39;49m\u001b[39mTrue\u001b[39;49;00m)\n",
      "File \u001b[0;32m~/Desktop/badproject/AItraining/.pyenv/lib/python3.9/site-packages/sanic/mixins/startup.py:215\u001b[0m, in \u001b[0;36mStartupMixin.run\u001b[0;34m(self, host, port, dev, debug, auto_reload, version, ssl, sock, workers, protocol, backlog, register_sys_signals, access_log, unix, loop, reload_dir, noisy_exceptions, motd, fast, verbosity, motd_display, auto_tls, single_process)\u001b[0m\n\u001b[1;32m    213\u001b[0m \u001b[39melse\u001b[39;00m:\n\u001b[1;32m    214\u001b[0m     serve \u001b[39m=\u001b[39m \u001b[39mself\u001b[39m\u001b[39m.\u001b[39m\u001b[39m__class__\u001b[39m\u001b[39m.\u001b[39mserve\n\u001b[0;32m--> 215\u001b[0m serve(primary\u001b[39m=\u001b[39;49m\u001b[39mself\u001b[39;49m)\n",
      "File \u001b[0;32m~/Desktop/badproject/AItraining/.pyenv/lib/python3.9/site-packages/sanic/mixins/startup.py:958\u001b[0m, in \u001b[0;36mStartupMixin.serve_single\u001b[0;34m(cls, primary)\u001b[0m\n\u001b[1;32m    955\u001b[0m     kwargs[\u001b[39m\"\u001b[39m\u001b[39mserver_info\u001b[39m\u001b[39m\"\u001b[39m][primary\u001b[39m.\u001b[39mname]\u001b[39m.\u001b[39mappend(server_info)\n\u001b[1;32m    957\u001b[0m \u001b[39mtry\u001b[39;00m:\n\u001b[0;32m--> 958\u001b[0m     worker_serve(monitor_publisher\u001b[39m=\u001b[39;49m\u001b[39mNone\u001b[39;49;00m, \u001b[39m*\u001b[39;49m\u001b[39m*\u001b[39;49mkwargs)\n\u001b[1;32m    959\u001b[0m \u001b[39mexcept\u001b[39;00m \u001b[39mBaseException\u001b[39;00m:\n\u001b[1;32m    960\u001b[0m     error_logger\u001b[39m.\u001b[39mexception(\n\u001b[1;32m    961\u001b[0m         \u001b[39m\"\u001b[39m\u001b[39mExperienced exception while trying to serve\u001b[39m\u001b[39m\"\u001b[39m\n\u001b[1;32m    962\u001b[0m     )\n",
      "File \u001b[0;32m~/Desktop/badproject/AItraining/.pyenv/lib/python3.9/site-packages/sanic/worker/serve.py:143\u001b[0m, in \u001b[0;36mworker_serve\u001b[0;34m(host, port, app_name, monitor_publisher, app_loader, worker_state, server_info, ssl, sock, unix, reuse_port, loop, protocol, backlog, register_sys_signals, run_multiple, run_async, connections, signal, state, asyncio_server_kwargs, version, config, passthru)\u001b[0m\n\u001b[1;32m    141\u001b[0m     multiplexer\u001b[39m.\u001b[39mterminate(\u001b[39mTrue\u001b[39;00m)\n\u001b[1;32m    142\u001b[0m \u001b[39melse\u001b[39;00m:\n\u001b[0;32m--> 143\u001b[0m     \u001b[39mraise\u001b[39;00m e\n",
      "File \u001b[0;32m~/Desktop/badproject/AItraining/.pyenv/lib/python3.9/site-packages/sanic/worker/serve.py:117\u001b[0m, in \u001b[0;36mworker_serve\u001b[0;34m(host, port, app_name, monitor_publisher, app_loader, worker_state, server_info, ssl, sock, unix, reuse_port, loop, protocol, backlog, register_sys_signals, run_multiple, run_async, connections, signal, state, asyncio_server_kwargs, version, config, passthru)\u001b[0m\n\u001b[1;32m    115\u001b[0m     \u001b[39mif\u001b[39;00m version \u001b[39mis\u001b[39;00m HTTP\u001b[39m.\u001b[39mVERSION_3:\n\u001b[1;32m    116\u001b[0m         \u001b[39mreturn\u001b[39;00m _serve_http_3(host, port, app, loop, ssl)\n\u001b[0;32m--> 117\u001b[0m     \u001b[39mreturn\u001b[39;00m _serve_http_1(\n\u001b[1;32m    118\u001b[0m         host,\n\u001b[1;32m    119\u001b[0m         port,\n\u001b[1;32m    120\u001b[0m         app,\n\u001b[1;32m    121\u001b[0m         ssl,\n\u001b[1;32m    122\u001b[0m         sock,\n\u001b[1;32m    123\u001b[0m         unix,\n\u001b[1;32m    124\u001b[0m         reuse_port,\n\u001b[1;32m    125\u001b[0m         loop,\n\u001b[1;32m    126\u001b[0m         protocol,\n\u001b[1;32m    127\u001b[0m         backlog,\n\u001b[1;32m    128\u001b[0m         register_sys_signals,\n\u001b[1;32m    129\u001b[0m         run_multiple,\n\u001b[1;32m    130\u001b[0m         run_async,\n\u001b[1;32m    131\u001b[0m         connections,\n\u001b[1;32m    132\u001b[0m         signal,\n\u001b[1;32m    133\u001b[0m         state,\n\u001b[1;32m    134\u001b[0m         asyncio_server_kwargs,\n\u001b[1;32m    135\u001b[0m     )\n\u001b[1;32m    136\u001b[0m \u001b[39mexcept\u001b[39;00m \u001b[39mException\u001b[39;00m \u001b[39mas\u001b[39;00m e:\n\u001b[1;32m    137\u001b[0m     warnings\u001b[39m.\u001b[39msimplefilter(\u001b[39m\"\u001b[39m\u001b[39mignore\u001b[39m\u001b[39m\"\u001b[39m, category\u001b[39m=\u001b[39m\u001b[39mRuntimeWarning\u001b[39;00m)\n",
      "File \u001b[0;32m~/Desktop/badproject/AItraining/.pyenv/lib/python3.9/site-packages/sanic/server/runners.py:222\u001b[0m, in \u001b[0;36m_serve_http_1\u001b[0;34m(host, port, app, ssl, sock, unix, reuse_port, loop, protocol, backlog, register_sys_signals, run_multiple, run_async, connections, signal, state, asyncio_server_kwargs)\u001b[0m\n\u001b[1;32m    214\u001b[0m \u001b[39mif\u001b[39;00m run_async:\n\u001b[1;32m    215\u001b[0m     \u001b[39mreturn\u001b[39;00m AsyncioServer(\n\u001b[1;32m    216\u001b[0m         app\u001b[39m=\u001b[39mapp,\n\u001b[1;32m    217\u001b[0m         loop\u001b[39m=\u001b[39mloop,\n\u001b[1;32m    218\u001b[0m         serve_coro\u001b[39m=\u001b[39mserver_coroutine,\n\u001b[1;32m    219\u001b[0m         connections\u001b[39m=\u001b[39mconnections,\n\u001b[1;32m    220\u001b[0m     )\n\u001b[0;32m--> 222\u001b[0m loop\u001b[39m.\u001b[39;49mrun_until_complete(app\u001b[39m.\u001b[39;49m_startup())\n\u001b[1;32m    223\u001b[0m loop\u001b[39m.\u001b[39mrun_until_complete(app\u001b[39m.\u001b[39m_server_event(\u001b[39m\"\u001b[39m\u001b[39minit\u001b[39m\u001b[39m\"\u001b[39m, \u001b[39m\"\u001b[39m\u001b[39mbefore\u001b[39m\u001b[39m\"\u001b[39m))\n\u001b[1;32m    224\u001b[0m app\u001b[39m.\u001b[39mack()\n",
      "File \u001b[0;32m~/Desktop/badproject/AItraining/.pyenv/lib/python3.9/site-packages/uvloop/loop.pyx:1511\u001b[0m, in \u001b[0;36muvloop.loop.Loop.run_until_complete\u001b[0;34m()\u001b[0m\n",
      "File \u001b[0;32m~/Desktop/badproject/AItraining/.pyenv/lib/python3.9/site-packages/uvloop/loop.pyx:1504\u001b[0m, in \u001b[0;36muvloop.loop.Loop.run_until_complete\u001b[0;34m()\u001b[0m\n",
      "File \u001b[0;32m~/Desktop/badproject/AItraining/.pyenv/lib/python3.9/site-packages/uvloop/loop.pyx:1377\u001b[0m, in \u001b[0;36muvloop.loop.Loop.run_forever\u001b[0;34m()\u001b[0m\n",
      "File \u001b[0;32m~/Desktop/badproject/AItraining/.pyenv/lib/python3.9/site-packages/uvloop/loop.pyx:522\u001b[0m, in \u001b[0;36muvloop.loop.Loop._run\u001b[0;34m()\u001b[0m\n",
      "\u001b[0;31mRuntimeError\u001b[0m: Cannot run the event loop while another loop is running"
     ]
    }
   ],
   "source": [
    "from sanic import Sanic\n",
    "from sanic.response import json\n",
    "\n",
    "app = Sanic(\"predictionApp\")\n",
    "\n",
    "@app.get(\"/user/predict\")\n",
    "def test(request):\n",
    "    return json({\"hello\": \"world\"})\n",
    "\n",
    "if __name__ == \"__main__\":\n",
    "    app.run(host=\"0.0.0.0\", port=8000, single_process=True)"
   ]
  }
 ],
 "metadata": {
  "kernelspec": {
   "display_name": ".pyenv",
   "language": "python",
   "name": "python3"
  },
  "language_info": {
   "codemirror_mode": {
    "name": "ipython",
    "version": 3
   },
   "file_extension": ".py",
   "mimetype": "text/x-python",
   "name": "python",
   "nbconvert_exporter": "python",
   "pygments_lexer": "ipython3",
   "version": "3.9.9"
  },
  "orig_nbformat": 4
 },
 "nbformat": 4,
 "nbformat_minor": 2
}
